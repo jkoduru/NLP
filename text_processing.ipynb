{
 "cells": [
  {
   "cell_type": "markdown",
   "metadata": {},
   "source": [
    "# Text Processing\n",
    "\n",
    "## Capturing Text Data\n",
    "\n",
    "### Plain Text"
   ]
  },
  {
   "cell_type": "code",
   "execution_count": 1,
   "metadata": {},
   "outputs": [
    {
     "name": "stdout",
     "output_type": "stream",
     "text": [
      "Hieroglyphic writing dates from c. 3000 BC, and is composed of hundreds of symbols. A hieroglyph can represent a word, a sound, or a silent determinative; and the same symbol can serve different purposes in different contexts. Hieroglyphs were a formal script, used on stone monuments and in tombs, that could be as detailed as individual works of art.\n",
      "\n"
     ]
    }
   ],
   "source": [
    "import os\n",
    "\n",
    "# Read in a plain text file\n",
    "with open(os.path.join(\"data\", \"hieroglyph.txt\"), \"r\") as f:\n",
    "    text = f.read()\n",
    "    print(text)"
   ]
  },
  {
   "cell_type": "markdown",
   "metadata": {},
   "source": [
    "### Tabular Data"
   ]
  },
  {
   "cell_type": "code",
   "execution_count": 2,
   "metadata": {
    "scrolled": true
   },
   "outputs": [
    {
     "data": {
      "text/html": [
       "<div>\n",
       "<style scoped>\n",
       "    .dataframe tbody tr th:only-of-type {\n",
       "        vertical-align: middle;\n",
       "    }\n",
       "\n",
       "    .dataframe tbody tr th {\n",
       "        vertical-align: top;\n",
       "    }\n",
       "\n",
       "    .dataframe thead th {\n",
       "        text-align: right;\n",
       "    }\n",
       "</style>\n",
       "<table border=\"1\" class=\"dataframe\">\n",
       "  <thead>\n",
       "    <tr style=\"text-align: right;\">\n",
       "      <th></th>\n",
       "      <th>publisher</th>\n",
       "      <th>title</th>\n",
       "    </tr>\n",
       "  </thead>\n",
       "  <tbody>\n",
       "    <tr>\n",
       "      <th>0</th>\n",
       "      <td>Livemint</td>\n",
       "      <td>fed's charles plosser sees high bar for change...</td>\n",
       "    </tr>\n",
       "    <tr>\n",
       "      <th>1</th>\n",
       "      <td>IFA Magazine</td>\n",
       "      <td>us open: stocks fall after fed official hints ...</td>\n",
       "    </tr>\n",
       "    <tr>\n",
       "      <th>2</th>\n",
       "      <td>IFA Magazine</td>\n",
       "      <td>fed risks falling 'behind the curve', charles ...</td>\n",
       "    </tr>\n",
       "    <tr>\n",
       "      <th>3</th>\n",
       "      <td>Moneynews</td>\n",
       "      <td>fed's plosser: nasty weather has curbed job gr...</td>\n",
       "    </tr>\n",
       "    <tr>\n",
       "      <th>4</th>\n",
       "      <td>NASDAQ</td>\n",
       "      <td>plosser: fed may have to accelerate tapering pace</td>\n",
       "    </tr>\n",
       "  </tbody>\n",
       "</table>\n",
       "</div>"
      ],
      "text/plain": [
       "      publisher                                              title\n",
       "0      Livemint  fed's charles plosser sees high bar for change...\n",
       "1  IFA Magazine  us open: stocks fall after fed official hints ...\n",
       "2  IFA Magazine  fed risks falling 'behind the curve', charles ...\n",
       "3     Moneynews  fed's plosser: nasty weather has curbed job gr...\n",
       "4        NASDAQ  plosser: fed may have to accelerate tapering pace"
      ]
     },
     "execution_count": 2,
     "metadata": {},
     "output_type": "execute_result"
    }
   ],
   "source": [
    "import pandas as pd\n",
    "\n",
    "# Extract text column from a dataframe\n",
    "df = pd.read_csv(os.path.join(\"data\", \"news.csv\"))\n",
    "df.head()[['publisher', 'title']]\n",
    "\n",
    "# Convert text column to lowercase\n",
    "df['title'] = df['title'].str.lower()\n",
    "df.head()[['publisher', 'title']]"
   ]
  },
  {
   "cell_type": "markdown",
   "metadata": {},
   "source": [
    "### Online Resource"
   ]
  },
  {
   "cell_type": "code",
   "execution_count": 3,
   "metadata": {
    "scrolled": true
   },
   "outputs": [
    {
     "name": "stdout",
     "output_type": "stream",
     "text": [
      "{\n",
      "    \"success\": {\n",
      "        \"total\": 1\n",
      "    },\n",
      "    \"contents\": {\n",
      "        \"quotes\": [\n",
      "            {\n",
      "                \"quote\": \"Keep on going and the chances are you will stumble on something, perhaps when you are least expecting it. I have never heard of anyone stumbling on something sitting down.\",\n",
      "                \"length\": \"171\",\n",
      "                \"author\": \"Charles F. Kettering\",\n",
      "                \"tags\": [\n",
      "                    \"inspire\",\n",
      "                    \"persistence\"\n",
      "                ],\n",
      "                \"category\": \"inspire\",\n",
      "                \"language\": \"en\",\n",
      "                \"date\": \"2020-04-07\",\n",
      "                \"permalink\": \"https://theysaidso.com/quote/charles-f-kettering-keep-on-going-and-the-chances-are-you-will-stumble-on-someth\",\n",
      "                \"id\": \"7YD88mupysVHRRHE7NyC_QeF\",\n",
      "                \"background\": \"https://theysaidso.com/img/qod/qod-inspire.jpg\",\n",
      "                \"title\": \"Inspiring Quote of the day\"\n",
      "            }\n",
      "        ]\n",
      "    },\n",
      "    \"baseurl\": \"https://theysaidso.com\",\n",
      "    \"copyright\": {\n",
      "        \"year\": 2022,\n",
      "        \"url\": \"https://theysaidso.com\"\n",
      "    }\n",
      "}\n",
      "Keep on going and the chances are you will stumble on something, perhaps when you are least expecting it. I have never heard of anyone stumbling on something sitting down. \n",
      "-- Charles F. Kettering\n"
     ]
    }
   ],
   "source": [
    "import requests\n",
    "import json\n",
    "\n",
    "# Fetch data from a REST API\n",
    "r = requests.get(\n",
    "    \"https://quotes.rest/qod.json\")\n",
    "res = r.json()\n",
    "print(json.dumps(res, indent=4))\n",
    "\n",
    "# Extract relevant object and field\n",
    "q = res[\"contents\"][\"quotes\"][0]\n",
    "print(q[\"quote\"], \"\\n--\", q[\"author\"])"
   ]
  },
  {
   "cell_type": "markdown",
   "metadata": {},
   "source": [
    "## Cleaning"
   ]
  },
  {
   "cell_type": "code",
   "execution_count": 4,
   "metadata": {
    "scrolled": true
   },
   "outputs": [
    {
     "name": "stdout",
     "output_type": "stream",
     "text": [
      "<html op=\"news\"><head><meta name=\"referrer\" content=\"origin\"><meta name=\"viewport\" content=\"width=device-width, initial-scale=1.0\"><link rel=\"stylesheet\" type=\"text/css\" href=\"news.css?EdFA4gW5lET4IyyrLeIo\">\n",
      "        <link rel=\"shortcut icon\" href=\"favicon.ico\">\n",
      "          <link rel=\"alternate\" type=\"application/rss+xml\" title=\"RSS\" href=\"rss\">\n",
      "        <title>Hacker News</title></head><body><center><table id=\"hnmain\" border=\"0\" cellpadding=\"0\" cellspacing=\"0\" width=\"85%\" bgcolor=\"#f6f6ef\">\n",
      "        <tr><td bgcolor=\"#ff6600\"><table border=\"0\" cellpadding=\"0\" cellspacing=\"0\" width=\"100%\" style=\"padding:2px\"><tr><td style=\"width:18px;padding-right:4px\"><a href=\"https://news.ycombinator.com\"><img src=\"y18.gif\" width=\"18\" height=\"18\" style=\"border:1px white solid;\"></a></td>\n",
      "                  <td style=\"line-height:12pt; height:10px;\"><span class=\"pagetop\"><b class=\"hnname\"><a href=\"news\">Hacker News</a></b>\n",
      "              <a href=\"newest\">new</a> | <a href=\"front\">past</a> | <a href=\"newcomments\">comments</a> | <a href=\"ask\">ask</a> | <a href=\"show\">show</a> | <a href=\"jobs\">jobs</a> | <a href=\"submit\">submit</a>            </span></td><td style=\"text-align:right;padding-right:4px;\"><span class=\"pagetop\">\n",
      "                              <a href=\"login?goto=news\">login</a>\n",
      "                          </span></td>\n",
      "              </tr></table></td></tr>\n",
      "<tr id=\"pagespace\" title=\"\" style=\"height:10px\"></tr><tr><td><table border=\"0\" cellpadding=\"0\" cellspacing=\"0\" class=\"itemlist\">\n",
      "              <tr class='athing' id='22798118'>\n",
      "      <td align=\"right\" valign=\"top\" class=\"title\"><span class=\"rank\">1.</span></td>      <td valign=\"top\" class=\"votelinks\"><center><a id='up_22798118' href='vote?id=22798118&amp;how=up&amp;goto=news'><div class='votearrow' title='upvote'></div></a></center></td><td class=\"title\"><a href=\"https://www.nytimes.com/2020/04/06/business/arbitration-overload.html\" class=\"storylink\">A new weapon in arbitration: sheer volume</a><span class=\"sitebit comhead\"> (<a href=\"from?site=nytimes.com\"><span class=\"sitestr\">nytimes.com</span></a>)</span></td></tr><tr><td colspan=\"2\"></td><td class=\"subtext\">\n",
      "        <span class=\"score\" id=\"score_22798118\">261 points</span> by <a href=\"user?id=jseliger\" class=\"hnuser\">jseliger</a> <span class=\"age\"><a href=\"item?id=22798118\">4 hours ago</a></span> <span id=\"unv_22798118\"></span> | <a href=\"hide?id=22798118&amp;goto=news\">hide</a> | <a href=\"item?id=22798118\">93&nbsp;comments</a>              </td></tr>\n",
      "      <tr class=\"spacer\" style=\"height:5px\"></tr>\n",
      "                <tr class='athing' id='22799407'>\n",
      "      <td align=\"right\" valign=\"top\" class=\"title\"><span class=\"rank\">2.</span></td>      <td valign=\"top\" class=\"votelinks\"><center><a id='up_22799407' href='vote?id=22799407&amp;how=up&amp;goto=news'><div class='votearrow' title='upvote'></div></a></center></td><td class=\"title\"><a href=\"https://www.npr.org/sections/coronavirus-live-updates/2020/04/06/828187071/some-auto-insurers-are-sending-refunds-to-customers-as-crash-rate-falls\" class=\"storylink\">Some auto insurers are sending refunds to customers as crash rate falls</a><span class=\"sitebit comhead\"> (<a href=\"from?site=npr.org\"><span class=\"sitestr\">npr.org</span></a>)</span></td></tr><tr><td colspan=\"2\"></td><td class=\"subtext\">\n",
      "        <span class=\"score\" id=\"score_22799407\">22 points</span> by <a href=\"user?id=prostoalex\" class=\"hnuser\">prostoalex</a> <span class=\"age\"><a href=\"item?id=22799407\">1 hour ago</a></span> <span id=\"unv_22799407\"></span> | <a href=\"hide?id=22799407&amp;goto=news\">hide</a> | <a href=\"item?id=22799407\">20&nbsp;comments</a>              </td></tr>\n",
      "      <tr class=\"spacer\" style=\"height:5px\"></tr>\n",
      "                <tr class='athing' id='22797060'>\n",
      "      <td align=\"right\" valign=\"top\" class=\"title\"><span class=\"rank\">3.</span></td>      <td valign=\"top\" class=\"votelinks\"><center><a id='up_22797060' href='vote?id=22797060&amp;how=up&amp;goto=news'><div class='votearrow' title='upvote'></div></a></center></td><td class=\"title\"><a href=\"http://www.quakejs.com/\" class=\"storylink\">QuakeJS – A Quake Port to JavaScript with Emscripten</a><span class=\"sitebit comhead\"> (<a href=\"from?site=quakejs.com\"><span class=\"sitestr\">quakejs.com</span></a>)</span></td></tr><tr><td colspan=\"2\"></td><td class=\"subtext\">\n",
      "        <span class=\"score\" id=\"score_22797060\">203 points</span> by <a href=\"user?id=zaiste\" class=\"hnuser\">zaiste</a> <span class=\"age\"><a href=\"item?id=22797060\">6 hours ago</a></span> <span id=\"unv_22797060\"></span> | <a href=\"hide?id=22797060&amp;goto=news\">hide</a> | <a href=\"item?id=22797060\">112&nbsp;comments</a>              </td></tr>\n",
      "      <tr class=\"spacer\" style=\"height:5px\"></tr>\n",
      "                <tr class='athing' id='22797688'>\n",
      "      <td align=\"right\" valign=\"top\" class=\"title\"><span class=\"rank\">4.</span></td>      <td valign=\"top\" class=\"votelinks\"><center><a id='up_22797688' href='vote?id=22797688&amp;how=up&amp;goto=news'><div class='votearrow' title='upvote'></div></a></center></td><td class=\"title\"><a href=\"https://blog.jessfraz.com/post/containers-zones-jails-vms/\" class=\"storylink\">Containers vs. Zones vs. Jails vs. VMs (2017)</a><span class=\"sitebit comhead\"> (<a href=\"from?site=jessfraz.com\"><span class=\"sitestr\">jessfraz.com</span></a>)</span></td></tr><tr><td colspan=\"2\"></td><td class=\"subtext\">\n",
      "        <span class=\"score\" id=\"score_22797688\">143 points</span> by <a href=\"user?id=gullyfur\" class=\"hnuser\">gullyfur</a> <span class=\"age\"><a href=\"item?id=22797688\">5 hours ago</a></span> <span id=\"unv_22797688\"></span> | <a href=\"hide?id=22797688&amp;goto=news\">hide</a> | <a href=\"item?id=22797688\">55&nbsp;comments</a>              </td></tr>\n",
      "      <tr class=\"spacer\" style=\"height:5px\"></tr>\n",
      "                <tr class='athing' id='22799263'>\n",
      "      <td align=\"right\" valign=\"top\" class=\"title\"><span class=\"rank\">5.</span></td>      <td valign=\"top\" class=\"votelinks\"><center><a id='up_22799263' href='vote?id=22799263&amp;how=up&amp;goto=news'><div class='votearrow' title='upvote'></div></a></center></td><td class=\"title\"><a href=\"https://techcrunch.com/2020/04/06/angellist-lays-off-a-number-of-staff-and-cuts-executive-salaries/\" class=\"storylink\">AngelList lays off a number of staff and cuts executive salaries</a><span class=\"sitebit comhead\"> (<a href=\"from?site=techcrunch.com\"><span class=\"sitestr\">techcrunch.com</span></a>)</span></td></tr><tr><td colspan=\"2\"></td><td class=\"subtext\">\n",
      "        <span class=\"score\" id=\"score_22799263\">31 points</span> by <a href=\"user?id=pseudolus\" class=\"hnuser\">pseudolus</a> <span class=\"age\"><a href=\"item?id=22799263\">1 hour ago</a></span> <span id=\"unv_22799263\"></span> | <a href=\"hide?id=22799263&amp;goto=news\">hide</a> | <a href=\"item?id=22799263\">10&nbsp;comments</a>              </td></tr>\n",
      "      <tr class=\"spacer\" style=\"height:5px\"></tr>\n",
      "                <tr class='athing' id='22799430'>\n",
      "      <td align=\"right\" valign=\"top\" class=\"title\"><span class=\"rank\">6.</span></td>      <td valign=\"top\" class=\"votelinks\"><center><a id='up_22799430' href='vote?id=22799430&amp;how=up&amp;goto=news'><div class='votearrow' title='upvote'></div></a></center></td><td class=\"title\"><a href=\"https://victorqribeiro.itch.io/qubes\" class=\"storylink\">Show HN: I'm releasing my game for free</a><span class=\"sitebit comhead\"> (<a href=\"from?site=itch.io\"><span class=\"sitestr\">itch.io</span></a>)</span></td></tr><tr><td colspan=\"2\"></td><td class=\"subtext\">\n",
      "        <span class=\"score\" id=\"score_22799430\">20 points</span> by <a href=\"user?id=atum47\" class=\"hnuser\">atum47</a> <span class=\"age\"><a href=\"item?id=22799430\">56 minutes ago</a></span> <span id=\"unv_22799430\"></span> | <a href=\"hide?id=22799430&amp;goto=news\">hide</a> | <a href=\"item?id=22799430\">16&nbsp;comments</a>              </td></tr>\n",
      "      <tr class=\"spacer\" style=\"height:5px\"></tr>\n",
      "                <tr class='athing' id='22796845'>\n",
      "      <td align=\"right\" valign=\"top\" class=\"title\"><span class=\"rank\">7.</span></td>      <td valign=\"top\" class=\"votelinks\"><center><a id='up_22796845' href='vote?id=22796845&amp;how=up&amp;goto=news'><div class='votearrow' title='upvote'></div></a></center></td><td class=\"title\"><a href=\"https://www.edge.org/response-detail/11783\" class=\"storylink\">What concept would improve everybody's cognitive toolkit? Kayfabe (2011)</a><span class=\"sitebit comhead\"> (<a href=\"from?site=edge.org\"><span class=\"sitestr\">edge.org</span></a>)</span></td></tr><tr><td colspan=\"2\"></td><td class=\"subtext\">\n",
      "        <span class=\"score\" id=\"score_22796845\">194 points</span> by <a href=\"user?id=aleyan\" class=\"hnuser\">aleyan</a> <span class=\"age\"><a href=\"item?id=22796845\">6 hours ago</a></span> <span id=\"unv_22796845\"></span> | <a href=\"hide?id=22796845&amp;goto=news\">hide</a> | <a href=\"item?id=22796845\">80&nbsp;comments</a>              </td></tr>\n",
      "      <tr class=\"spacer\" style=\"height:5px\"></tr>\n",
      "                <tr class='athing' id='22795189'>\n",
      "      <td align=\"right\" valign=\"top\" class=\"title\"><span class=\"rank\">8.</span></td>      <td valign=\"top\" class=\"votelinks\"><center><a id='up_22795189' href='vote?id=22795189&amp;how=up&amp;goto=news'><div class='votearrow' title='upvote'></div></a></center></td><td class=\"title\"><a href=\"https://www.wsj.com/articles/shipping-delays-out-of-stock-items-amazon-isnt-the-only-shop-online-11586165400\" class=\"storylink\">Amazon Isn’t the Only Shop Online</a><span class=\"sitebit comhead\"> (<a href=\"from?site=wsj.com\"><span class=\"sitestr\">wsj.com</span></a>)</span></td></tr><tr><td colspan=\"2\"></td><td class=\"subtext\">\n",
      "        <span class=\"score\" id=\"score_22795189\">306 points</span> by <a href=\"user?id=prostoalex\" class=\"hnuser\">prostoalex</a> <span class=\"age\"><a href=\"item?id=22795189\">9 hours ago</a></span> <span id=\"unv_22795189\"></span> | <a href=\"hide?id=22795189&amp;goto=news\">hide</a> | <a href=\"item?id=22795189\">375&nbsp;comments</a>              </td></tr>\n",
      "      <tr class=\"spacer\" style=\"height:5px\"></tr>\n",
      "                <tr class='athing' id='22798433'>\n",
      "      <td align=\"right\" valign=\"top\" class=\"title\"><span class=\"rank\">9.</span></td>      <td valign=\"top\" class=\"votelinks\"><center><a id='up_22798433' href='vote?id=22798433&amp;how=up&amp;goto=news'><div class='votearrow' title='upvote'></div></a></center></td><td class=\"title\"><a href=\"http://philstrazzulla.com/2020/04/06/tips-for-founders-sales-lessons-from-starting-two-b2b-startups/\" class=\"storylink\">Tips for Founders Sales: Lessons from Starting Two B2B Startups</a><span class=\"sitebit comhead\"> (<a href=\"from?site=philstrazzulla.com\"><span class=\"sitestr\">philstrazzulla.com</span></a>)</span></td></tr><tr><td colspan=\"2\"></td><td class=\"subtext\">\n",
      "        <span class=\"score\" id=\"score_22798433\">34 points</span> by <a href=\"user?id=pstrazzulla\" class=\"hnuser\">pstrazzulla</a> <span class=\"age\"><a href=\"item?id=22798433\">3 hours ago</a></span> <span id=\"unv_22798433\"></span> | <a href=\"hide?id=22798433&amp;goto=news\">hide</a> | <a href=\"item?id=22798433\">3&nbsp;comments</a>              </td></tr>\n",
      "      <tr class=\"spacer\" style=\"height:5px\"></tr>\n",
      "                <tr class='athing' id='22799411'>\n",
      "      <td align=\"right\" valign=\"top\" class=\"title\"><span class=\"rank\">10.</span></td>      <td valign=\"top\" class=\"votelinks\"><center><a id='up_22799411' href='vote?id=22799411&amp;how=up&amp;goto=news'><div class='votearrow' title='upvote'></div></a></center></td><td class=\"title\"><a href=\"https://www.solipsys.co.uk/DiscDAG.html\" class=\"storylink\">Welcome to DiscDAG</a><span class=\"sitebit comhead\"> (<a href=\"from?site=solipsys.co.uk\"><span class=\"sitestr\">solipsys.co.uk</span></a>)</span></td></tr><tr><td colspan=\"2\"></td><td class=\"subtext\">\n",
      "        <span class=\"score\" id=\"score_22799411\">7 points</span> by <a href=\"user?id=mr_tyzic\" class=\"hnuser\">mr_tyzic</a> <span class=\"age\"><a href=\"item?id=22799411\">59 minutes ago</a></span> <span id=\"unv_22799411\"></span> | <a href=\"hide?id=22799411&amp;goto=news\">hide</a> | <a href=\"item?id=22799411\">2&nbsp;comments</a>              </td></tr>\n",
      "      <tr class=\"spacer\" style=\"height:5px\"></tr>\n",
      "                <tr class='athing' id='22795671'>\n",
      "      <td align=\"right\" valign=\"top\" class=\"title\"><span class=\"rank\">11.</span></td>      <td valign=\"top\" class=\"votelinks\"><center><a id='up_22795671' href='vote?id=22795671&amp;how=up&amp;goto=news'><div class='votearrow' title='upvote'></div></a></center></td><td class=\"title\"><a href=\"https://www.wsj.com/articles/foursquare-merges-with-factual-another-location-data-provider-11586193000\" class=\"storylink\">Foursquare Merges with Factual</a><span class=\"sitebit comhead\"> (<a href=\"from?site=wsj.com\"><span class=\"sitestr\">wsj.com</span></a>)</span></td></tr><tr><td colspan=\"2\"></td><td class=\"subtext\">\n",
      "        <span class=\"score\" id=\"score_22795671\">177 points</span> by <a href=\"user?id=leothekim\" class=\"hnuser\">leothekim</a> <span class=\"age\"><a href=\"item?id=22795671\">8 hours ago</a></span> <span id=\"unv_22795671\"></span> | <a href=\"hide?id=22795671&amp;goto=news\">hide</a> | <a href=\"item?id=22795671\">103&nbsp;comments</a>              </td></tr>\n",
      "      <tr class=\"spacer\" style=\"height:5px\"></tr>\n",
      "                <tr class='athing' id='22797687'>\n",
      "      <td align=\"right\" valign=\"top\" class=\"title\"><span class=\"rank\">12.</span></td>      <td valign=\"top\" class=\"votelinks\"><center><a id='up_22797687' href='vote?id=22797687&amp;how=up&amp;goto=news'><div class='votearrow' title='upvote'></div></a></center></td><td class=\"title\"><a href=\"https://codahale.com/work-is-work/\" class=\"storylink\">Work Is Work</a><span class=\"sitebit comhead\"> (<a href=\"from?site=codahale.com\"><span class=\"sitestr\">codahale.com</span></a>)</span></td></tr><tr><td colspan=\"2\"></td><td class=\"subtext\">\n",
      "        <span class=\"score\" id=\"score_22797687\">84 points</span> by <a href=\"user?id=mrry\" class=\"hnuser\">mrry</a> <span class=\"age\"><a href=\"item?id=22797687\">2 hours ago</a></span> <span id=\"unv_22797687\"></span> | <a href=\"hide?id=22797687&amp;goto=news\">hide</a> | <a href=\"item?id=22797687\">22&nbsp;comments</a>              </td></tr>\n",
      "      <tr class=\"spacer\" style=\"height:5px\"></tr>\n",
      "                <tr class='athing' id='22796409'>\n",
      "      <td align=\"right\" valign=\"top\" class=\"title\"><span class=\"rank\">13.</span></td>      <td valign=\"top\" class=\"votelinks\"><center><a id='up_22796409' href='vote?id=22796409&amp;how=up&amp;goto=news'><div class='votearrow' title='upvote'></div></a></center></td><td class=\"title\"><a href=\"http://iolanguage.org/\" class=\"storylink\">The Io Language</a><span class=\"sitebit comhead\"> (<a href=\"from?site=iolanguage.org\"><span class=\"sitestr\">iolanguage.org</span></a>)</span></td></tr><tr><td colspan=\"2\"></td><td class=\"subtext\">\n",
      "        <span class=\"score\" id=\"score_22796409\">29 points</span> by <a href=\"user?id=pcr910303\" class=\"hnuser\">pcr910303</a> <span class=\"age\"><a href=\"item?id=22796409\">2 hours ago</a></span> <span id=\"unv_22796409\"></span> | <a href=\"hide?id=22796409&amp;goto=news\">hide</a> | <a href=\"item?id=22796409\">3&nbsp;comments</a>              </td></tr>\n",
      "      <tr class=\"spacer\" style=\"height:5px\"></tr>\n",
      "                <tr class='athing' id='22797286'>\n",
      "      <td align=\"right\" valign=\"top\" class=\"title\"><span class=\"rank\">14.</span></td>      <td valign=\"top\" class=\"votelinks\"><center><a id='up_22797286' href='vote?id=22797286&amp;how=up&amp;goto=news'><div class='votearrow' title='upvote'></div></a></center></td><td class=\"title\"><a href=\"https://github.com/shiyanhui/libcsp\" class=\"storylink\">Libcsp: a fast C concurrency library influenced by the CSP model</a><span class=\"sitebit comhead\"> (<a href=\"from?site=github.com\"><span class=\"sitestr\">github.com</span></a>)</span></td></tr><tr><td colspan=\"2\"></td><td class=\"subtext\">\n",
      "        <span class=\"score\" id=\"score_22797286\">79 points</span> by <a href=\"user?id=lime66\" class=\"hnuser\">lime66</a> <span class=\"age\"><a href=\"item?id=22797286\">5 hours ago</a></span> <span id=\"unv_22797286\"></span> | <a href=\"hide?id=22797286&amp;goto=news\">hide</a> | <a href=\"item?id=22797286\">17&nbsp;comments</a>              </td></tr>\n",
      "      <tr class=\"spacer\" style=\"height:5px\"></tr>\n",
      "                <tr class='athing' id='22797089'>\n",
      "      <td align=\"right\" valign=\"top\" class=\"title\"><span class=\"rank\">15.</span></td>      <td valign=\"top\" class=\"votelinks\"><center><a id='up_22797089' href='vote?id=22797089&amp;how=up&amp;goto=news'><div class='votearrow' title='upvote'></div></a></center></td><td class=\"title\"><a href=\"https://github.com/ghdl/ghdl-yosys-plugin\" class=\"storylink\">VHDL support for open-source FPGA toolchain YoSys</a><span class=\"sitebit comhead\"> (<a href=\"from?site=github.com\"><span class=\"sitestr\">github.com</span></a>)</span></td></tr><tr><td colspan=\"2\"></td><td class=\"subtext\">\n",
      "        <span class=\"score\" id=\"score_22797089\">66 points</span> by <a href=\"user?id=ur-whale\" class=\"hnuser\">ur-whale</a> <span class=\"age\"><a href=\"item?id=22797089\">6 hours ago</a></span> <span id=\"unv_22797089\"></span> | <a href=\"hide?id=22797089&amp;goto=news\">hide</a> | <a href=\"item?id=22797089\">5&nbsp;comments</a>              </td></tr>\n",
      "      <tr class=\"spacer\" style=\"height:5px\"></tr>\n",
      "                <tr class='athing' id='22797404'>\n",
      "      <td align=\"right\" valign=\"top\" class=\"title\"><span class=\"rank\">16.</span></td>      <td valign=\"top\" class=\"votelinks\"><center><a id='up_22797404' href='vote?id=22797404&amp;how=up&amp;goto=news'><div class='votearrow' title='upvote'></div></a></center></td><td class=\"title\"><a href=\"https://deislabs.io/posts/introducing-krustlet/\" class=\"storylink\">Krustlet, the WebAssembly Kubelet</a><span class=\"sitebit comhead\"> (<a href=\"from?site=deislabs.io\"><span class=\"sitestr\">deislabs.io</span></a>)</span></td></tr><tr><td colspan=\"2\"></td><td class=\"subtext\">\n",
      "        <span class=\"score\" id=\"score_22797404\">87 points</span> by <a href=\"user?id=dankohn1\" class=\"hnuser\">dankohn1</a> <span class=\"age\"><a href=\"item?id=22797404\">5 hours ago</a></span> <span id=\"unv_22797404\"></span> | <a href=\"hide?id=22797404&amp;goto=news\">hide</a> | <a href=\"item?id=22797404\">11&nbsp;comments</a>              </td></tr>\n",
      "      <tr class=\"spacer\" style=\"height:5px\"></tr>\n",
      "                <tr class='athing' id='22792054'>\n",
      "      <td align=\"right\" valign=\"top\" class=\"title\"><span class=\"rank\">17.</span></td>      <td valign=\"top\" class=\"votelinks\"><center><a id='up_22792054' href='vote?id=22792054&amp;how=up&amp;goto=news'><div class='votearrow' title='upvote'></div></a></center></td><td class=\"title\"><a href=\"https://www.superhighway98.com/seo\" class=\"storylink\">How SEO Ruined the Internet</a><span class=\"sitebit comhead\"> (<a href=\"from?site=superhighway98.com\"><span class=\"sitestr\">superhighway98.com</span></a>)</span></td></tr><tr><td colspan=\"2\"></td><td class=\"subtext\">\n",
      "        <span class=\"score\" id=\"score_22792054\">303 points</span> by <a href=\"user?id=midef\" class=\"hnuser\">midef</a> <span class=\"age\"><a href=\"item?id=22792054\">12 hours ago</a></span> <span id=\"unv_22792054\"></span> | <a href=\"hide?id=22792054&amp;goto=news\">hide</a> | <a href=\"item?id=22792054\">183&nbsp;comments</a>              </td></tr>\n",
      "      <tr class=\"spacer\" style=\"height:5px\"></tr>\n",
      "                <tr class='athing' id='22794064'>\n",
      "      <td align=\"right\" valign=\"top\" class=\"title\"><span class=\"rank\">18.</span></td>      <td valign=\"top\" class=\"votelinks\"><center><a id='up_22794064' href='vote?id=22794064&amp;how=up&amp;goto=news'><div class='votearrow' title='upvote'></div></a></center></td><td class=\"title\"><a href=\"https://www.vice.com/en_us/article/pke9zk/paypal-and-venmo-are-letting-sim-swappers-hijack-accounts\" class=\"storylink\">PayPal and Venmo are still letting SIM swappers hijack accounts</a><span class=\"sitebit comhead\"> (<a href=\"from?site=vice.com\"><span class=\"sitestr\">vice.com</span></a>)</span></td></tr><tr><td colspan=\"2\"></td><td class=\"subtext\">\n",
      "        <span class=\"score\" id=\"score_22794064\">201 points</span> by <a href=\"user?id=danso\" class=\"hnuser\">danso</a> <span class=\"age\"><a href=\"item?id=22794064\">11 hours ago</a></span> <span id=\"unv_22794064\"></span> | <a href=\"hide?id=22794064&amp;goto=news\">hide</a> | <a href=\"item?id=22794064\">119&nbsp;comments</a>              </td></tr>\n",
      "      <tr class=\"spacer\" style=\"height:5px\"></tr>\n",
      "                <tr class='athing' id='22785100'>\n",
      "      <td align=\"right\" valign=\"top\" class=\"title\"><span class=\"rank\">19.</span></td>      <td valign=\"top\" class=\"votelinks\"><center><a id='up_22785100' href='vote?id=22785100&amp;how=up&amp;goto=news'><div class='votearrow' title='upvote'></div></a></center></td><td class=\"title\"><a href=\"https://avrillion.com/stf/363/How-to-Build-1-Bit-of-RAM-Using-Transistors\" class=\"storylink\">How to Build 1 Bit of RAM Using Transistors</a><span class=\"sitebit comhead\"> (<a href=\"from?site=avrillion.com\"><span class=\"sitestr\">avrillion.com</span></a>)</span></td></tr><tr><td colspan=\"2\"></td><td class=\"subtext\">\n",
      "        <span class=\"score\" id=\"score_22785100\">36 points</span> by <a href=\"user?id=ImGameDeving\" class=\"hnuser\">ImGameDeving</a> <span class=\"age\"><a href=\"item?id=22785100\">4 hours ago</a></span> <span id=\"unv_22785100\"></span> | <a href=\"hide?id=22785100&amp;goto=news\">hide</a> | <a href=\"item?id=22785100\">24&nbsp;comments</a>              </td></tr>\n",
      "      <tr class=\"spacer\" style=\"height:5px\"></tr>\n",
      "                <tr class='athing' id='22796038'>\n",
      "      <td align=\"right\" valign=\"top\" class=\"title\"><span class=\"rank\">20.</span></td>      <td valign=\"top\" class=\"votelinks\"><center><a id='up_22796038' href='vote?id=22796038&amp;how=up&amp;goto=news'><div class='votearrow' title='upvote'></div></a></center></td><td class=\"title\"><a href=\"https://github.com/dcf21/star-charter\" class=\"storylink\">StarCharter – CLI tool for producing vector-graphics charts of the night sky</a><span class=\"sitebit comhead\"> (<a href=\"from?site=github.com\"><span class=\"sitestr\">github.com</span></a>)</span></td></tr><tr><td colspan=\"2\"></td><td class=\"subtext\">\n",
      "        <span class=\"score\" id=\"score_22796038\">114 points</span> by <a href=\"user?id=app4soft\" class=\"hnuser\">app4soft</a> <span class=\"age\"><a href=\"item?id=22796038\">8 hours ago</a></span> <span id=\"unv_22796038\"></span> | <a href=\"hide?id=22796038&amp;goto=news\">hide</a> | <a href=\"item?id=22796038\">3&nbsp;comments</a>              </td></tr>\n",
      "      <tr class=\"spacer\" style=\"height:5px\"></tr>\n",
      "                <tr class='athing' id='22795930'>\n",
      "      <td align=\"right\" valign=\"top\" class=\"title\"><span class=\"rank\">21.</span></td>      <td valign=\"top\" class=\"votelinks\"><center><a id='up_22795930' href='vote?id=22795930&amp;how=up&amp;goto=news'><div class='votearrow' title='upvote'></div></a></center></td><td class=\"title\"><a href=\"https://codeberg.org/\" class=\"storylink\">Codeberg: a free, non-commercial GitHub alternative</a><span class=\"sitebit comhead\"> (<a href=\"from?site=codeberg.org\"><span class=\"sitestr\">codeberg.org</span></a>)</span></td></tr><tr><td colspan=\"2\"></td><td class=\"subtext\">\n",
      "        <span class=\"score\" id=\"score_22795930\">79 points</span> by <a href=\"user?id=passthejoe\" class=\"hnuser\">passthejoe</a> <span class=\"age\"><a href=\"item?id=22795930\">8 hours ago</a></span> <span id=\"unv_22795930\"></span> | <a href=\"hide?id=22795930&amp;goto=news\">hide</a> | <a href=\"item?id=22795930\">41&nbsp;comments</a>              </td></tr>\n",
      "      <tr class=\"spacer\" style=\"height:5px\"></tr>\n",
      "                <tr class='athing' id='22782259'>\n",
      "      <td align=\"right\" valign=\"top\" class=\"title\"><span class=\"rank\">22.</span></td>      <td valign=\"top\" class=\"votelinks\"><center><a id='up_22782259' href='vote?id=22782259&amp;how=up&amp;goto=news'><div class='votearrow' title='upvote'></div></a></center></td><td class=\"title\"><a href=\"https://basesandframes.wordpress.com/2020/04/04/even-faster-math-functions/\" class=\"storylink\" rel=\"nofollow\">Even Faster Math Functions</a><span class=\"sitebit comhead\"> (<a href=\"from?site=basesandframes.wordpress.com\"><span class=\"sitestr\">basesandframes.wordpress.com</span></a>)</span></td></tr><tr><td colspan=\"2\"></td><td class=\"subtext\">\n",
      "        <span class=\"score\" id=\"score_22782259\">5 points</span> by <a href=\"user?id=matt_d\" class=\"hnuser\">matt_d</a> <span class=\"age\"><a href=\"item?id=22782259\">1 hour ago</a></span> <span id=\"unv_22782259\"></span> | <a href=\"hide?id=22782259&amp;goto=news\">hide</a> | <a href=\"item?id=22782259\">discuss</a>              </td></tr>\n",
      "      <tr class=\"spacer\" style=\"height:5px\"></tr>\n",
      "                <tr class='athing' id='22794396'>\n",
      "      <td align=\"right\" valign=\"top\" class=\"title\"><span class=\"rank\">23.</span></td>      <td valign=\"top\" class=\"votelinks\"><center><a id='up_22794396' href='vote?id=22794396&amp;how=up&amp;goto=news'><div class='votearrow' title='upvote'></div></a></center></td><td class=\"title\"><a href=\"https://unixism.net/2020/04/io-uring-by-example-article-series/\" class=\"storylink\">Io_uring By Example: cat, cp and a web server with io_uring</a><span class=\"sitebit comhead\"> (<a href=\"from?site=unixism.net\"><span class=\"sitestr\">unixism.net</span></a>)</span></td></tr><tr><td colspan=\"2\"></td><td class=\"subtext\">\n",
      "        <span class=\"score\" id=\"score_22794396\">156 points</span> by <a href=\"user?id=shuss\" class=\"hnuser\">shuss</a> <span class=\"age\"><a href=\"item?id=22794396\">10 hours ago</a></span> <span id=\"unv_22794396\"></span> | <a href=\"hide?id=22794396&amp;goto=news\">hide</a> | <a href=\"item?id=22794396\">27&nbsp;comments</a>              </td></tr>\n",
      "      <tr class=\"spacer\" style=\"height:5px\"></tr>\n",
      "                <tr class='athing' id='22797549'>\n",
      "      <td align=\"right\" valign=\"top\" class=\"title\"><span class=\"rank\">24.</span></td>      <td valign=\"top\" class=\"votelinks\"><center><a id='up_22797549' href='vote?id=22797549&amp;how=up&amp;goto=news'><div class='votearrow' title='upvote'></div></a></center></td><td class=\"title\"><a href=\"https://www.spinellis.gr/blog/20200406/\" class=\"storylink\">A chat protocol for remote lectures</a><span class=\"sitebit comhead\"> (<a href=\"from?site=spinellis.gr\"><span class=\"sitestr\">spinellis.gr</span></a>)</span></td></tr><tr><td colspan=\"2\"></td><td class=\"subtext\">\n",
      "        <span class=\"score\" id=\"score_22797549\">47 points</span> by <a href=\"user?id=progre\" class=\"hnuser\">progre</a> <span class=\"age\"><a href=\"item?id=22797549\">5 hours ago</a></span> <span id=\"unv_22797549\"></span> | <a href=\"hide?id=22797549&amp;goto=news\">hide</a> | <a href=\"item?id=22797549\">8&nbsp;comments</a>              </td></tr>\n",
      "      <tr class=\"spacer\" style=\"height:5px\"></tr>\n",
      "                <tr class='athing' id='22799520'>\n",
      "      <td align=\"right\" valign=\"top\" class=\"title\"><span class=\"rank\">25.</span></td>      <td valign=\"top\" class=\"votelinks\"><center><a id='up_22799520' href='vote?id=22799520&amp;how=up&amp;goto=news'><div class='votearrow' title='upvote'></div></a></center></td><td class=\"title\"><a href=\"http://tmfassociates.com/blog/2020/03/21/why-spacex-desperately-needs-a-government-bailout/\" class=\"storylink\" rel=\"nofollow\">Why SpaceX desperately needs a government bailout</a><span class=\"sitebit comhead\"> (<a href=\"from?site=tmfassociates.com\"><span class=\"sitestr\">tmfassociates.com</span></a>)</span></td></tr><tr><td colspan=\"2\"></td><td class=\"subtext\">\n",
      "        <span class=\"score\" id=\"score_22799520\">5 points</span> by <a href=\"user?id=dankohn1\" class=\"hnuser\">dankohn1</a> <span class=\"age\"><a href=\"item?id=22799520\">38 minutes ago</a></span> <span id=\"unv_22799520\"></span> | <a href=\"hide?id=22799520&amp;goto=news\">hide</a> | <a href=\"item?id=22799520\">1&nbsp;comment</a>              </td></tr>\n",
      "      <tr class=\"spacer\" style=\"height:5px\"></tr>\n",
      "                <tr class='athing' id='22798616'>\n",
      "      <td align=\"right\" valign=\"top\" class=\"title\"><span class=\"rank\">26.</span></td>      <td valign=\"top\" class=\"votelinks\"><center><a id='up_22798616' href='vote?id=22798616&amp;how=up&amp;goto=news'><div class='votearrow' title='upvote'></div></a></center></td><td class=\"title\"><a href=\"http://cs241.cs.illinois.edu/coursebook/index.html\" class=\"storylink\">Free System Programming Textbook (Illinois CS241)</a><span class=\"sitebit comhead\"> (<a href=\"from?site=illinois.edu\"><span class=\"sitestr\">illinois.edu</span></a>)</span></td></tr><tr><td colspan=\"2\"></td><td class=\"subtext\">\n",
      "        <span class=\"score\" id=\"score_22798616\">15 points</span> by <a href=\"user?id=garren\" class=\"hnuser\">garren</a> <span class=\"age\"><a href=\"item?id=22798616\">3 hours ago</a></span> <span id=\"unv_22798616\"></span> | <a href=\"hide?id=22798616&amp;goto=news\">hide</a> | <a href=\"item?id=22798616\">discuss</a>              </td></tr>\n",
      "      <tr class=\"spacer\" style=\"height:5px\"></tr>\n",
      "                <tr class='athing' id='22797641'>\n",
      "      <td align=\"right\" valign=\"top\" class=\"title\"><span class=\"rank\">27.</span></td>      <td valign=\"top\" class=\"votelinks\"><center><a id='up_22797641' href='vote?id=22797641&amp;how=up&amp;goto=news'><div class='votearrow' title='upvote'></div></a></center></td><td class=\"title\"><a href=\"item?id=22797641\" class=\"storylink\">Launch HN: TagMango (YC W20) – Personalized video shoutouts in India</a></td></tr><tr><td colspan=\"2\"></td><td class=\"subtext\">\n",
      "        <span class=\"score\" id=\"score_22797641\">11 points</span> by <a href=\"user?id=mohammadhasan7\" class=\"hnuser\">mohammadhasan7</a> <span class=\"age\"><a href=\"item?id=22797641\">2 hours ago</a></span> <span id=\"unv_22797641\"></span> | <a href=\"hide?id=22797641&amp;goto=news\">hide</a> | <a href=\"item?id=22797641\">6&nbsp;comments</a>              </td></tr>\n",
      "      <tr class=\"spacer\" style=\"height:5px\"></tr>\n",
      "                <tr class='athing' id='22784666'>\n",
      "      <td align=\"right\" valign=\"top\" class=\"title\"><span class=\"rank\">28.</span></td>      <td valign=\"top\" class=\"votelinks\"><center><a id='up_22784666' href='vote?id=22784666&amp;how=up&amp;goto=news'><div class='votearrow' title='upvote'></div></a></center></td><td class=\"title\"><a href=\"https://dl.acm.org/doi/abs/10.1145/1238844.1238850\" class=\"storylink\">A History of Erlang (2007)</a><span class=\"sitebit comhead\"> (<a href=\"from?site=acm.org\"><span class=\"sitestr\">acm.org</span></a>)</span></td></tr><tr><td colspan=\"2\"></td><td class=\"subtext\">\n",
      "        <span class=\"score\" id=\"score_22784666\">81 points</span> by <a href=\"user?id=vinnyglennon\" class=\"hnuser\">vinnyglennon</a> <span class=\"age\"><a href=\"item?id=22784666\">8 hours ago</a></span> <span id=\"unv_22784666\"></span> | <a href=\"hide?id=22784666&amp;goto=news\">hide</a> | <a href=\"item?id=22784666\">39&nbsp;comments</a>              </td></tr>\n",
      "      <tr class=\"spacer\" style=\"height:5px\"></tr>\n",
      "                <tr class='athing' id='22794533'>\n",
      "      <td align=\"right\" valign=\"top\" class=\"title\"><span class=\"rank\">29.</span></td>      <td valign=\"top\" class=\"votelinks\"><center><a id='up_22794533' href='vote?id=22794533&amp;how=up&amp;goto=news'><div class='votearrow' title='upvote'></div></a></center></td><td class=\"title\"><a href=\"https://github.com/blanchette/logical_verification_2020/raw/master/hitchhikers_guide.pdf\" class=\"storylink\">Lean Book: The Hitchhiker's Guide to Logical Verification [pdf]</a><span class=\"sitebit comhead\"> (<a href=\"from?site=github.com\"><span class=\"sitestr\">github.com</span></a>)</span></td></tr><tr><td colspan=\"2\"></td><td class=\"subtext\">\n",
      "        <span class=\"score\" id=\"score_22794533\">117 points</span> by <a href=\"user?id=kevinbuzzard\" class=\"hnuser\">kevinbuzzard</a> <span class=\"age\"><a href=\"item?id=22794533\">9 hours ago</a></span> <span id=\"unv_22794533\"></span> | <a href=\"hide?id=22794533&amp;goto=news\">hide</a> | <a href=\"item?id=22794533\">11&nbsp;comments</a>              </td></tr>\n",
      "      <tr class=\"spacer\" style=\"height:5px\"></tr>\n",
      "                <tr class='athing' id='22797729'>\n",
      "      <td align=\"right\" valign=\"top\" class=\"title\"><span class=\"rank\">30.</span></td>      <td valign=\"top\" class=\"votelinks\"><center><a id='up_22797729' href='vote?id=22797729&amp;how=up&amp;goto=news'><div class='votearrow' title='upvote'></div></a></center></td><td class=\"title\"><a href=\"https://journals.aps.org/prl/abstract/10.1103/PhysRevLett.124.101101\" class=\"storylink\">New test of the gravitational 1/r2 law at separations down to 52μm</a><span class=\"sitebit comhead\"> (<a href=\"from?site=aps.org\"><span class=\"sitestr\">aps.org</span></a>)</span></td></tr><tr><td colspan=\"2\"></td><td class=\"subtext\">\n",
      "        <span class=\"score\" id=\"score_22797729\">29 points</span> by <a href=\"user?id=bookofjoe\" class=\"hnuser\">bookofjoe</a> <span class=\"age\"><a href=\"item?id=22797729\">5 hours ago</a></span> <span id=\"unv_22797729\"></span> | <a href=\"hide?id=22797729&amp;goto=news\">hide</a> | <a href=\"item?id=22797729\">3&nbsp;comments</a>              </td></tr>\n",
      "      <tr class=\"spacer\" style=\"height:5px\"></tr>\n",
      "            <tr class=\"morespace\" style=\"height:10px\"></tr><tr><td colspan=\"2\"></td><td class=\"title\"><a href=\"news?p=2\" class=\"morelink\" rel=\"next\">More</a></td></tr>\n",
      "  </table>\n",
      "</td></tr>\n",
      "<tr><td><img src=\"s.gif\" height=\"10\" width=\"0\"><table width=\"100%\" cellspacing=\"0\" cellpadding=\"1\"><tr><td bgcolor=\"#ff6600\"></td></tr></table><br><center><span class=\"yclinks\"><a href=\"newsguidelines.html\">Guidelines</a>\n",
      "        | <a href=\"newsfaq.html\">FAQ</a>\n",
      "        | <a href=\"mailto:hn@ycombinator.com\">Support</a>\n",
      "        | <a href=\"https://github.com/HackerNews/API\">API</a>\n",
      "        | <a href=\"security.html\">Security</a>\n",
      "        | <a href=\"lists\">Lists</a>\n",
      "        | <a href=\"bookmarklet.html\" rel=\"nofollow\">Bookmarklet</a>\n",
      "        | <a href=\"http://www.ycombinator.com/legal/\">Legal</a>\n",
      "        | <a href=\"http://www.ycombinator.com/apply/\">Apply to YC</a>\n",
      "        | <a href=\"mailto:hn@ycombinator.com\">Contact</a></span><br><br><form method=\"get\" action=\"//hn.algolia.com/\">Search:\n",
      "          <input type=\"text\" name=\"q\" value=\"\" size=\"17\" autocorrect=\"off\" spellcheck=\"false\" autocapitalize=\"off\" autocomplete=\"false\"></form>\n",
      "            </center></td></tr>\n",
      "      </table></center></body><script type='text/javascript' src='hn.js?EdFA4gW5lET4IyyrLeIo'></script></html>\n",
      "\n"
     ]
    }
   ],
   "source": [
    "import requests\n",
    "\n",
    "# Fetch a web page\n",
    "r = requests.get(\"https://news.ycombinator.com\")\n",
    "print(r.text)"
   ]
  },
  {
   "cell_type": "code",
   "execution_count": 5,
   "metadata": {},
   "outputs": [
    {
     "name": "stdout",
     "output_type": "stream",
     "text": [
      "\n",
      "        \n",
      "          \n",
      "        Hacker News\n",
      "        \n",
      "                  Hacker News\n",
      "              new | past | comments | ask | show | jobs | submit            \n",
      "                              login\n",
      "                          \n",
      "              \n",
      "\n",
      "              \n",
      "      1.      A new weapon in arbitration: sheer volume (nytimes.com)\n",
      "        261 points by jseliger 4 hours ago  | hide | 93&nbsp;comments              \n",
      "      \n",
      "                \n",
      "      2.      Some auto insurers are sending refunds to customers as crash rate falls (npr.org)\n",
      "        22 points by prostoalex 1 hour ago  | hide | 20&nbsp;comments              \n",
      "      \n",
      "                \n",
      "      3.      QuakeJS – A Quake Port to JavaScript with Emscripten (quakejs.com)\n",
      "        203 points by zaiste 6 hours ago  | hide | 112&nbsp;comments              \n",
      "      \n",
      "                \n",
      "      4.      Containers vs. Zones vs. Jails vs. VMs (2017) (jessfraz.com)\n",
      "        143 points by gullyfur 5 hours ago  | hide | 55&nbsp;comments              \n",
      "      \n",
      "                \n",
      "      5.      AngelList lays off a number of staff and cuts executive salaries (techcrunch.com)\n",
      "        31 points by pseudolus 1 hour ago  | hide | 10&nbsp;comments              \n",
      "      \n",
      "                \n",
      "      6.      Show HN: I'm releasing my game for free (itch.io)\n",
      "        20 points by atum47 56 minutes ago  | hide | 16&nbsp;comments              \n",
      "      \n",
      "                \n",
      "      7.      What concept would improve everybody's cognitive toolkit? Kayfabe (2011) (edge.org)\n",
      "        194 points by aleyan 6 hours ago  | hide | 80&nbsp;comments              \n",
      "      \n",
      "                \n",
      "      8.      Amazon Isn’t the Only Shop Online (wsj.com)\n",
      "        306 points by prostoalex 9 hours ago  | hide | 375&nbsp;comments              \n",
      "      \n",
      "                \n",
      "      9.      Tips for Founders Sales: Lessons from Starting Two B2B Startups (philstrazzulla.com)\n",
      "        34 points by pstrazzulla 3 hours ago  | hide | 3&nbsp;comments              \n",
      "      \n",
      "                \n",
      "      10.      Welcome to DiscDAG (solipsys.co.uk)\n",
      "        7 points by mr_tyzic 59 minutes ago  | hide | 2&nbsp;comments              \n",
      "      \n",
      "                \n",
      "      11.      Foursquare Merges with Factual (wsj.com)\n",
      "        177 points by leothekim 8 hours ago  | hide | 103&nbsp;comments              \n",
      "      \n",
      "                \n",
      "      12.      Work Is Work (codahale.com)\n",
      "        84 points by mrry 2 hours ago  | hide | 22&nbsp;comments              \n",
      "      \n",
      "                \n",
      "      13.      The Io Language (iolanguage.org)\n",
      "        29 points by pcr910303 2 hours ago  | hide | 3&nbsp;comments              \n",
      "      \n",
      "                \n",
      "      14.      Libcsp: a fast C concurrency library influenced by the CSP model (github.com)\n",
      "        79 points by lime66 5 hours ago  | hide | 17&nbsp;comments              \n",
      "      \n",
      "                \n",
      "      15.      VHDL support for open-source FPGA toolchain YoSys (github.com)\n",
      "        66 points by ur-whale 6 hours ago  | hide | 5&nbsp;comments              \n",
      "      \n",
      "                \n",
      "      16.      Krustlet, the WebAssembly Kubelet (deislabs.io)\n",
      "        87 points by dankohn1 5 hours ago  | hide | 11&nbsp;comments              \n",
      "      \n",
      "                \n",
      "      17.      How SEO Ruined the Internet (superhighway98.com)\n",
      "        303 points by midef 12 hours ago  | hide | 183&nbsp;comments              \n",
      "      \n",
      "                \n",
      "      18.      PayPal and Venmo are still letting SIM swappers hijack accounts (vice.com)\n",
      "        201 points by danso 11 hours ago  | hide | 119&nbsp;comments              \n",
      "      \n",
      "                \n",
      "      19.      How to Build 1 Bit of RAM Using Transistors (avrillion.com)\n",
      "        36 points by ImGameDeving 4 hours ago  | hide | 24&nbsp;comments              \n",
      "      \n",
      "                \n",
      "      20.      StarCharter – CLI tool for producing vector-graphics charts of the night sky (github.com)\n",
      "        114 points by app4soft 8 hours ago  | hide | 3&nbsp;comments              \n",
      "      \n",
      "                \n",
      "      21.      Codeberg: a free, non-commercial GitHub alternative (codeberg.org)\n",
      "        79 points by passthejoe 8 hours ago  | hide | 41&nbsp;comments              \n",
      "      \n",
      "                \n",
      "      22.      Even Faster Math Functions (basesandframes.wordpress.com)\n",
      "        5 points by matt_d 1 hour ago  | hide | discuss              \n",
      "      \n",
      "                \n",
      "      23.      Io_uring By Example: cat, cp and a web server with io_uring (unixism.net)\n",
      "        156 points by shuss 10 hours ago  | hide | 27&nbsp;comments              \n",
      "      \n",
      "                \n",
      "      24.      A chat protocol for remote lectures (spinellis.gr)\n",
      "        47 points by progre 5 hours ago  | hide | 8&nbsp;comments              \n",
      "      \n",
      "                \n",
      "      25.      Why SpaceX desperately needs a government bailout (tmfassociates.com)\n",
      "        5 points by dankohn1 38 minutes ago  | hide | 1&nbsp;comment              \n",
      "      \n",
      "                \n",
      "      26.      Free System Programming Textbook (Illinois CS241) (illinois.edu)\n",
      "        15 points by garren 3 hours ago  | hide | discuss              \n",
      "      \n",
      "                \n",
      "      27.      Launch HN: TagMango (YC W20) – Personalized video shoutouts in India\n",
      "        11 points by mohammadhasan7 2 hours ago  | hide | 6&nbsp;comments              \n",
      "      \n",
      "                \n",
      "      28.      A History of Erlang (2007) (acm.org)\n",
      "        81 points by vinnyglennon 8 hours ago  | hide | 39&nbsp;comments              \n",
      "      \n",
      "                \n",
      "      29.      Lean Book: The Hitchhiker's Guide to Logical Verification [pdf] (github.com)\n",
      "        117 points by kevinbuzzard 9 hours ago  | hide | 11&nbsp;comments              \n",
      "      \n",
      "                \n",
      "      30.      New test of the gravitational 1/r2 law at separations down to 52μm (aps.org)\n",
      "        29 points by bookofjoe 5 hours ago  | hide | 3&nbsp;comments              \n",
      "      \n",
      "            More\n",
      "  \n",
      "\n",
      "Guidelines\n",
      "        | FAQ\n",
      "        | Support\n",
      "        | API\n",
      "        | Security\n",
      "        | Lists\n",
      "        | Bookmarklet\n",
      "        | Legal\n",
      "        | Apply to YC\n",
      "        | ContactSearch:\n",
      "          \n",
      "            \n",
      "      \n",
      "\n"
     ]
    }
   ],
   "source": [
    "import re\n",
    "\n",
    "# Remove HTML tags using RegEx\n",
    "pattern = re.compile(r'<.*?>')  # tags look like <...>\n",
    "print(pattern.sub('', r.text))  # replace them with blank"
   ]
  },
  {
   "cell_type": "code",
   "execution_count": 6,
   "metadata": {},
   "outputs": [
    {
     "name": "stdout",
     "output_type": "stream",
     "text": [
      "\n",
      "        \n",
      "          \n",
      "        Hacker News\n",
      "        \n",
      "                  Hacker News\n",
      "              new | past | comments | ask | show | jobs | submit            \n",
      "                              login\n",
      "                          \n",
      "              \n",
      "\n",
      "              \n",
      "      1.      A new weapon in arbitration: sheer volume (nytimes.com)\n",
      "        261 points by jseliger 4 hours ago  | hide | 93 comments              \n",
      "      \n",
      "                \n",
      "      2.      Some auto insurers are sending refunds to customers as crash rate falls (npr.org)\n",
      "        22 points by prostoalex 1 hour ago  | hide | 20 comments              \n",
      "      \n",
      "                \n",
      "      3.      QuakeJS – A Quake Port to JavaScript with Emscripten (quakejs.com)\n",
      "        203 points by zaiste 6 hours ago  | hide | 112 comments              \n",
      "      \n",
      "                \n",
      "      4.      Containers vs. Zones vs. Jails vs. VMs (2017) (jessfraz.com)\n",
      "        143 points by gullyfur 5 hours ago  | hide | 55 comments              \n",
      "      \n",
      "                \n",
      "      5.      AngelList lays off a number of staff and cuts executive salaries (techcrunch.com)\n",
      "        31 points by pseudolus 1 hour ago  | hide | 10 comments              \n",
      "      \n",
      "                \n",
      "      6.      Show HN: I'm releasing my game for free (itch.io)\n",
      "        20 points by atum47 56 minutes ago  | hide | 16 comments              \n",
      "      \n",
      "                \n",
      "      7.      What concept would improve everybody's cognitive toolkit? Kayfabe (2011) (edge.org)\n",
      "        194 points by aleyan 6 hours ago  | hide | 80 comments              \n",
      "      \n",
      "                \n",
      "      8.      Amazon Isn’t the Only Shop Online (wsj.com)\n",
      "        306 points by prostoalex 9 hours ago  | hide | 375 comments              \n",
      "      \n",
      "                \n",
      "      9.      Tips for Founders Sales: Lessons from Starting Two B2B Startups (philstrazzulla.com)\n",
      "        34 points by pstrazzulla 3 hours ago  | hide | 3 comments              \n",
      "      \n",
      "                \n",
      "      10.      Welcome to DiscDAG (solipsys.co.uk)\n",
      "        7 points by mr_tyzic 59 minutes ago  | hide | 2 comments              \n",
      "      \n",
      "                \n",
      "      11.      Foursquare Merges with Factual (wsj.com)\n",
      "        177 points by leothekim 8 hours ago  | hide | 103 comments              \n",
      "      \n",
      "                \n",
      "      12.      Work Is Work (codahale.com)\n",
      "        84 points by mrry 2 hours ago  | hide | 22 comments              \n",
      "      \n",
      "                \n",
      "      13.      The Io Language (iolanguage.org)\n",
      "        29 points by pcr910303 2 hours ago  | hide | 3 comments              \n",
      "      \n",
      "                \n",
      "      14.      Libcsp: a fast C concurrency library influenced by the CSP model (github.com)\n",
      "        79 points by lime66 5 hours ago  | hide | 17 comments              \n",
      "      \n",
      "                \n",
      "      15.      VHDL support for open-source FPGA toolchain YoSys (github.com)\n",
      "        66 points by ur-whale 6 hours ago  | hide | 5 comments              \n",
      "      \n",
      "                \n",
      "      16.      Krustlet, the WebAssembly Kubelet (deislabs.io)\n",
      "        87 points by dankohn1 5 hours ago  | hide | 11 comments              \n",
      "      \n",
      "                \n",
      "      17.      How SEO Ruined the Internet (superhighway98.com)\n",
      "        303 points by midef 12 hours ago  | hide | 183 comments              \n",
      "      \n",
      "                \n",
      "      18.      PayPal and Venmo are still letting SIM swappers hijack accounts (vice.com)\n",
      "        201 points by danso 11 hours ago  | hide | 119 comments              \n",
      "      \n",
      "                \n",
      "      19.      How to Build 1 Bit of RAM Using Transistors (avrillion.com)\n",
      "        36 points by ImGameDeving 4 hours ago  | hide | 24 comments              \n",
      "      \n",
      "                \n",
      "      20.      StarCharter – CLI tool for producing vector-graphics charts of the night sky (github.com)\n",
      "        114 points by app4soft 8 hours ago  | hide | 3 comments              \n",
      "      \n",
      "                \n",
      "      21.      Codeberg: a free, non-commercial GitHub alternative (codeberg.org)\n",
      "        79 points by passthejoe 8 hours ago  | hide | 41 comments              \n",
      "      \n",
      "                \n",
      "      22.      Even Faster Math Functions (basesandframes.wordpress.com)\n",
      "        5 points by matt_d 1 hour ago  | hide | discuss              \n",
      "      \n",
      "                \n",
      "      23.      Io_uring By Example: cat, cp and a web server with io_uring (unixism.net)\n",
      "        156 points by shuss 10 hours ago  | hide | 27 comments              \n",
      "      \n",
      "                \n",
      "      24.      A chat protocol for remote lectures (spinellis.gr)\n",
      "        47 points by progre 5 hours ago  | hide | 8 comments              \n",
      "      \n",
      "                \n",
      "      25.      Why SpaceX desperately needs a government bailout (tmfassociates.com)\n",
      "        5 points by dankohn1 38 minutes ago  | hide | 1 comment              \n",
      "      \n",
      "                \n",
      "      26.      Free System Programming Textbook (Illinois CS241) (illinois.edu)\n",
      "        15 points by garren 3 hours ago  | hide | discuss              \n",
      "      \n",
      "                \n",
      "      27.      Launch HN: TagMango (YC W20) – Personalized video shoutouts in India\n",
      "        11 points by mohammadhasan7 2 hours ago  | hide | 6 comments              \n",
      "      \n",
      "                \n",
      "      28.      A History of Erlang (2007) (acm.org)\n",
      "        81 points by vinnyglennon 8 hours ago  | hide | 39 comments              \n",
      "      \n",
      "                \n",
      "      29.      Lean Book: The Hitchhiker's Guide to Logical Verification [pdf] (github.com)\n",
      "        117 points by kevinbuzzard 9 hours ago  | hide | 11 comments              \n",
      "      \n",
      "                \n",
      "      30.      New test of the gravitational 1/r2 law at separations down to 52μm (aps.org)\n",
      "        29 points by bookofjoe 5 hours ago  | hide | 3 comments              \n",
      "      \n",
      "            More\n",
      "  \n",
      "\n",
      "Guidelines\n",
      "        | FAQ\n",
      "        | Support\n",
      "        | API\n",
      "        | Security\n",
      "        | Lists\n",
      "        | Bookmarklet\n",
      "        | Legal\n",
      "        | Apply to YC\n",
      "        | ContactSearch:\n",
      "          \n",
      "            \n",
      "      \n",
      "\n"
     ]
    }
   ],
   "source": [
    "from bs4 import BeautifulSoup\n",
    "\n",
    "# Remove HTML tags using Beautiful Soup library\n",
    "soup = BeautifulSoup(r.text, \"html5lib\")\n",
    "print(soup.get_text())"
   ]
  },
  {
   "cell_type": "code",
   "execution_count": 7,
   "metadata": {
    "scrolled": true
   },
   "outputs": [
    {
     "data": {
      "text/plain": [
       "<tr class=\"athing\" id=\"22798118\">\n",
       "      <td align=\"right\" class=\"title\" valign=\"top\"><span class=\"rank\">1.</span></td>      <td class=\"votelinks\" valign=\"top\"><center><a href=\"vote?id=22798118&amp;how=up&amp;goto=news\" id=\"up_22798118\"><div class=\"votearrow\" title=\"upvote\"></div></a></center></td><td class=\"title\"><a class=\"storylink\" href=\"https://www.nytimes.com/2020/04/06/business/arbitration-overload.html\">A new weapon in arbitration: sheer volume</a><span class=\"sitebit comhead\"> (<a href=\"from?site=nytimes.com\"><span class=\"sitestr\">nytimes.com</span></a>)</span></td></tr>"
      ]
     },
     "execution_count": 7,
     "metadata": {},
     "output_type": "execute_result"
    }
   ],
   "source": [
    "# Find all articles\n",
    "summaries = soup.find_all(\"tr\", class_=\"athing\")\n",
    "summaries[0]"
   ]
  },
  {
   "cell_type": "code",
   "execution_count": 8,
   "metadata": {},
   "outputs": [
    {
     "data": {
      "text/plain": [
       "'A new weapon in arbitration: sheer volume'"
      ]
     },
     "execution_count": 8,
     "metadata": {},
     "output_type": "execute_result"
    }
   ],
   "source": [
    "# Extract title\n",
    "summaries[0].find(\"a\", class_=\"storylink\").get_text().strip()"
   ]
  },
  {
   "cell_type": "code",
   "execution_count": 10,
   "metadata": {},
   "outputs": [
    {
     "name": "stdout",
     "output_type": "stream",
     "text": [
      "30 Article summaries found. Sample:\n",
      "A new weapon in arbitration: sheer volume\n",
      "['A new weapon in arbitration: sheer volume', 'Some auto insurers are sending refunds to customers as crash rate falls', 'QuakeJS – A Quake Port to JavaScript with Emscripten', 'Containers vs. Zones vs. Jails vs. VMs (2017)', 'AngelList lays off a number of staff and cuts executive salaries', \"Show HN: I'm releasing my game for free\", \"What concept would improve everybody's cognitive toolkit? Kayfabe (2011)\", 'Amazon Isn’t the Only Shop Online', 'Tips for Founders Sales: Lessons from Starting Two B2B Startups', 'Welcome to DiscDAG', 'Foursquare Merges with Factual', 'Work Is Work', 'The Io Language', 'Libcsp: a fast C concurrency library influenced by the CSP model', 'VHDL support for open-source FPGA toolchain YoSys', 'Krustlet, the WebAssembly Kubelet', 'How SEO Ruined the Internet', 'PayPal and Venmo are still letting SIM swappers hijack accounts', 'How to Build 1 Bit of RAM Using Transistors', 'StarCharter – CLI tool for producing vector-graphics charts of the night sky', 'Codeberg: a free, non-commercial GitHub alternative', 'Even Faster Math Functions', 'Io_uring By Example: cat, cp and a web server with io_uring', 'A chat protocol for remote lectures', 'Why SpaceX desperately needs a government bailout', 'Free System Programming Textbook (Illinois CS241)', 'Launch HN: TagMango (YC W20) – Personalized video shoutouts in India', 'A History of Erlang (2007)', \"Lean Book: The Hitchhiker's Guide to Logical Verification [pdf]\", 'New test of the gravitational 1/r2 law at separations down to 52μm']\n"
     ]
    }
   ],
   "source": [
    "# Find all articles, extract titles\n",
    "articles = []\n",
    "summaries = soup.find_all(\"tr\", class_=\"athing\")\n",
    "for summary in summaries:\n",
    "    title = summary.find(\"a\", class_=\"storylink\").get_text().strip()\n",
    "    articles.append((title))\n",
    "\n",
    "print(len(articles), \"Article summaries found. Sample:\")\n",
    "print(articles[0])\n",
    "print(articles)"
   ]
  },
  {
   "cell_type": "markdown",
   "metadata": {
    "collapsed": true
   },
   "source": [
    "## Normalization"
   ]
  },
  {
   "cell_type": "markdown",
   "metadata": {},
   "source": [
    "### Case Normalization"
   ]
  },
  {
   "cell_type": "code",
   "execution_count": 11,
   "metadata": {},
   "outputs": [
    {
     "name": "stdout",
     "output_type": "stream",
     "text": [
      "The first time you see The Second Renaissance it may look boring. Look at it at least twice and definitely watch part 2. It will change your view of the matrix. Are the human people the ones who started the war ? Is AI a bad thing ?\n"
     ]
    }
   ],
   "source": [
    "# Sample text\n",
    "text = \"The first time you see The Second Renaissance it may look boring. Look at it at least twice and definitely watch part 2. It will change your view of the matrix. Are the human people the ones who started the war ? Is AI a bad thing ?\"\n",
    "print(text)"
   ]
  },
  {
   "cell_type": "code",
   "execution_count": 12,
   "metadata": {},
   "outputs": [
    {
     "name": "stdout",
     "output_type": "stream",
     "text": [
      "the first time you see the second renaissance it may look boring. look at it at least twice and definitely watch part 2. it will change your view of the matrix. are the human people the ones who started the war ? is ai a bad thing ?\n"
     ]
    }
   ],
   "source": [
    "# Convert to lowercase\n",
    "text = text.lower() \n",
    "print(text)"
   ]
  },
  {
   "cell_type": "markdown",
   "metadata": {},
   "source": [
    "### Punctuation Removal"
   ]
  },
  {
   "cell_type": "code",
   "execution_count": 13,
   "metadata": {},
   "outputs": [
    {
     "name": "stdout",
     "output_type": "stream",
     "text": [
      "the first time you see the second renaissance it may look boring  look at it at least twice and definitely watch part 2  it will change your view of the matrix  are the human people the ones who started the war   is ai a bad thing  \n"
     ]
    }
   ],
   "source": [
    "import re\n",
    "\n",
    "# Remove punctuation characters\n",
    "text = re.sub(r\"[^a-zA-Z0-9]\", \" \", text) \n",
    "print(text)"
   ]
  },
  {
   "cell_type": "markdown",
   "metadata": {},
   "source": [
    "## Tokenization"
   ]
  },
  {
   "cell_type": "code",
   "execution_count": 14,
   "metadata": {},
   "outputs": [
    {
     "name": "stdout",
     "output_type": "stream",
     "text": [
      "['the', 'first', 'time', 'you', 'see', 'the', 'second', 'renaissance', 'it', 'may', 'look', 'boring', 'look', 'at', 'it', 'at', 'least', 'twice', 'and', 'definitely', 'watch', 'part', '2', 'it', 'will', 'change', 'your', 'view', 'of', 'the', 'matrix', 'are', 'the', 'human', 'people', 'the', 'ones', 'who', 'started', 'the', 'war', 'is', 'ai', 'a', 'bad', 'thing']\n"
     ]
    }
   ],
   "source": [
    "# Split text into tokens (words)\n",
    "words = text.split()\n",
    "print(words)"
   ]
  },
  {
   "cell_type": "markdown",
   "metadata": {},
   "source": [
    "### NLTK: Natural Language ToolKit"
   ]
  },
  {
   "cell_type": "code",
   "execution_count": 15,
   "metadata": {},
   "outputs": [],
   "source": [
    "import os\n",
    "import nltk\n",
    "nltk.data.path.append(os.path.join(os.getcwd(), \"nltk_data\"))"
   ]
  },
  {
   "cell_type": "code",
   "execution_count": 16,
   "metadata": {},
   "outputs": [
    {
     "name": "stdout",
     "output_type": "stream",
     "text": [
      "Dr. Smith graduated from the University of Washington. He later started an analytics firm called Lux, which catered to enterprise customers.\n"
     ]
    }
   ],
   "source": [
    "# Another sample text\n",
    "text = \"Dr. Smith graduated from the University of Washington. He later started an analytics firm called Lux, which catered to enterprise customers.\"\n",
    "print(text)"
   ]
  },
  {
   "cell_type": "code",
   "execution_count": 18,
   "metadata": {},
   "outputs": [
    {
     "name": "stdout",
     "output_type": "stream",
     "text": [
      "['Dr.', 'Smith', 'graduated', 'from', 'the', 'University', 'of', 'Washington', '.', 'He', 'later', 'started', 'an', 'analytics', 'firm', 'called', 'Lux', ',', 'which', 'catered', 'to', 'enterprise', 'customers', '.']\n",
      "['Dr.', 'Smith', 'graduated', 'from', 'the', 'University', 'of', 'Washington.', 'He', 'later', 'started', 'an', 'analytics', 'firm', 'called', 'Lux,', 'which', 'catered', 'to', 'enterprise', 'customers.']\n"
     ]
    }
   ],
   "source": [
    "from nltk.tokenize import word_tokenize\n",
    "\n",
    "# Split text into words using NLTK\n",
    "words = word_tokenize(text)\n",
    "words_split = text.split()\n",
    "print(words)\n",
    "print(words_split)"
   ]
  },
  {
   "cell_type": "code",
   "execution_count": 19,
   "metadata": {},
   "outputs": [
    {
     "name": "stdout",
     "output_type": "stream",
     "text": [
      "['Dr. Smith graduated from the University of Washington.', 'He later started an analytics firm called Lux, which catered to enterprise customers.']\n"
     ]
    }
   ],
   "source": [
    "from nltk.tokenize import sent_tokenize\n",
    "\n",
    "# Split text into sentences\n",
    "sentences = sent_tokenize(text)\n",
    "print(sentences)"
   ]
  },
  {
   "cell_type": "code",
   "execution_count": 20,
   "metadata": {},
   "outputs": [
    {
     "name": "stdout",
     "output_type": "stream",
     "text": [
      "['i', 'me', 'my', 'myself', 'we', 'our', 'ours', 'ourselves', 'you', \"you're\", \"you've\", \"you'll\", \"you'd\", 'your', 'yours', 'yourself', 'yourselves', 'he', 'him', 'his', 'himself', 'she', \"she's\", 'her', 'hers', 'herself', 'it', \"it's\", 'its', 'itself', 'they', 'them', 'their', 'theirs', 'themselves', 'what', 'which', 'who', 'whom', 'this', 'that', \"that'll\", 'these', 'those', 'am', 'is', 'are', 'was', 'were', 'be', 'been', 'being', 'have', 'has', 'had', 'having', 'do', 'does', 'did', 'doing', 'a', 'an', 'the', 'and', 'but', 'if', 'or', 'because', 'as', 'until', 'while', 'of', 'at', 'by', 'for', 'with', 'about', 'against', 'between', 'into', 'through', 'during', 'before', 'after', 'above', 'below', 'to', 'from', 'up', 'down', 'in', 'out', 'on', 'off', 'over', 'under', 'again', 'further', 'then', 'once', 'here', 'there', 'when', 'where', 'why', 'how', 'all', 'any', 'both', 'each', 'few', 'more', 'most', 'other', 'some', 'such', 'no', 'nor', 'not', 'only', 'own', 'same', 'so', 'than', 'too', 'very', 's', 't', 'can', 'will', 'just', 'don', \"don't\", 'should', \"should've\", 'now', 'd', 'll', 'm', 'o', 're', 've', 'y', 'ain', 'aren', \"aren't\", 'couldn', \"couldn't\", 'didn', \"didn't\", 'doesn', \"doesn't\", 'hadn', \"hadn't\", 'hasn', \"hasn't\", 'haven', \"haven't\", 'isn', \"isn't\", 'ma', 'mightn', \"mightn't\", 'mustn', \"mustn't\", 'needn', \"needn't\", 'shan', \"shan't\", 'shouldn', \"shouldn't\", 'wasn', \"wasn't\", 'weren', \"weren't\", 'won', \"won't\", 'wouldn', \"wouldn't\"]\n"
     ]
    }
   ],
   "source": [
    "# List stop words\n",
    "from nltk.corpus import stopwords\n",
    "print(stopwords.words(\"english\"))"
   ]
  },
  {
   "cell_type": "code",
   "execution_count": 21,
   "metadata": {},
   "outputs": [
    {
     "name": "stdout",
     "output_type": "stream",
     "text": [
      "['the', 'first', 'time', 'you', 'see', 'the', 'second', 'renaissance', 'it', 'may', 'look', 'boring', 'look', 'at', 'it', 'at', 'least', 'twice', 'and', 'definitely', 'watch', 'part', '2', 'it', 'will', 'change', 'your', 'view', 'of', 'the', 'matrix', 'are', 'the', 'human', 'people', 'the', 'ones', 'who', 'started', 'the', 'war', 'is', 'ai', 'a', 'bad', 'thing']\n"
     ]
    }
   ],
   "source": [
    "# Reset text\n",
    "text = \"The first time you see The Second Renaissance it may look boring. Look at it at least twice and definitely watch part 2. It will change your view of the matrix. Are the human people the ones who started the war ? Is AI a bad thing ?\"\n",
    "\n",
    "# Normalize it\n",
    "text = re.sub(r\"[^a-zA-Z0-9]\", \" \", text.lower())\n",
    "\n",
    "# Tokenize it\n",
    "words = text.split()\n",
    "print(words)"
   ]
  },
  {
   "cell_type": "code",
   "execution_count": 23,
   "metadata": {},
   "outputs": [
    {
     "name": "stdout",
     "output_type": "stream",
     "text": [
      "['first', 'time', 'see', 'second', 'renaissance', 'may', 'look', 'boring', 'look', 'least', 'twice', 'definitely', 'watch', 'part', '2', 'change', 'view', 'matrix', 'human', 'people', 'ones', 'started', 'war', 'ai', 'bad', 'thing']\n"
     ]
    }
   ],
   "source": [
    "# Remove stop words\n",
    "words = [w for w in words if w not in stopwords.words(\"english\")]\n",
    "print(words)"
   ]
  },
  {
   "cell_type": "markdown",
   "metadata": {},
   "source": [
    "### Sentence Parsing"
   ]
  },
  {
   "cell_type": "code",
   "execution_count": 24,
   "metadata": {},
   "outputs": [
    {
     "name": "stdout",
     "output_type": "stream",
     "text": [
      "(S\n",
      "  (NP I)\n",
      "  (VP\n",
      "    (VP (V shot) (NP (Det an) (N elephant)))\n",
      "    (PP (P in) (NP (Det my) (N pajamas)))))\n",
      "(S\n",
      "  (NP I)\n",
      "  (VP\n",
      "    (V shot)\n",
      "    (NP (Det an) (N elephant) (PP (P in) (NP (Det my) (N pajamas))))))\n"
     ]
    }
   ],
   "source": [
    "import nltk\n",
    "\n",
    "# Define a custom grammar\n",
    "my_grammar = nltk.CFG.fromstring(\"\"\"\n",
    "S -> NP VP\n",
    "PP -> P NP\n",
    "NP -> Det N | Det N PP | 'I'\n",
    "VP -> V NP | VP PP\n",
    "Det -> 'an' | 'my'\n",
    "N -> 'elephant' | 'pajamas'\n",
    "V -> 'shot'\n",
    "P -> 'in'\n",
    "\"\"\")\n",
    "parser = nltk.ChartParser(my_grammar)\n",
    "\n",
    "# Parse a sentence\n",
    "sentence = word_tokenize(\"I shot an elephant in my pajamas\")\n",
    "for tree in parser.parse(sentence):\n",
    "    print(tree)"
   ]
  },
  {
   "cell_type": "markdown",
   "metadata": {},
   "source": [
    "## Stemming & Lemmatization\n",
    "\n",
    "### Stemming"
   ]
  },
  {
   "cell_type": "code",
   "execution_count": 25,
   "metadata": {},
   "outputs": [
    {
     "name": "stdout",
     "output_type": "stream",
     "text": [
      "['first', 'time', 'see', 'second', 'renaiss', 'may', 'look', 'bore', 'look', 'least', 'twice', 'definit', 'watch', 'part', '2', 'chang', 'view', 'matrix', 'human', 'peopl', 'one', 'start', 'war', 'ai', 'bad', 'thing']\n"
     ]
    }
   ],
   "source": [
    "from nltk.stem.porter import PorterStemmer\n",
    "\n",
    "# Reduce words to their stems\n",
    "stemmed = [PorterStemmer().stem(w) for w in words]\n",
    "print(stemmed)"
   ]
  },
  {
   "cell_type": "markdown",
   "metadata": {},
   "source": [
    "### Lemmatization"
   ]
  },
  {
   "cell_type": "code",
   "execution_count": 26,
   "metadata": {},
   "outputs": [
    {
     "name": "stdout",
     "output_type": "stream",
     "text": [
      "['first', 'time', 'see', 'second', 'renaissance', 'may', 'look', 'boring', 'look', 'least', 'twice', 'definitely', 'watch', 'part', '2', 'change', 'view', 'matrix', 'human', 'people', 'one', 'started', 'war', 'ai', 'bad', 'thing']\n"
     ]
    }
   ],
   "source": [
    "from nltk.stem.wordnet import WordNetLemmatizer\n",
    "\n",
    "# Reduce words to their root form\n",
    "lemmed = [WordNetLemmatizer().lemmatize(w) for w in words]\n",
    "print(lemmed)"
   ]
  },
  {
   "cell_type": "code",
   "execution_count": null,
   "metadata": {},
   "outputs": [],
   "source": [
    "# Lemmatize verbs by specifying pos\n",
    "lemmed = [WordNetLemmatizer().lemmatize(w, pos='v') for w in lemmed]\n",
    "print(lemmed)"
   ]
  },
  {
   "cell_type": "code",
   "execution_count": null,
   "metadata": {},
   "outputs": [],
   "source": []
  }
 ],
 "metadata": {
  "kernelspec": {
   "display_name": "Python 3",
   "language": "python",
   "name": "python3"
  },
  "language_info": {
   "codemirror_mode": {
    "name": "ipython",
    "version": 3
   },
   "file_extension": ".py",
   "mimetype": "text/x-python",
   "name": "python",
   "nbconvert_exporter": "python",
   "pygments_lexer": "ipython3",
   "version": "3.6.3"
  }
 },
 "nbformat": 4,
 "nbformat_minor": 2
}
